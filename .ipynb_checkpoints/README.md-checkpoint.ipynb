{
 "cells": [
  {
   "cell_type": "markdown",
   "id": "223d84ec",
   "metadata": {},
   "source": [
    "# Datos personales\n",
    "- ***Mateo Andrei Fernández Valverde***\n",
    "- ***Sexto Semestre***\n",
    "- ***Ingenieria en Biotecnologia***\n",
    "- ***Bioinformatica***\n",
    "# Caracteristicas del computador\n",
    "- Procesador:\tAMD Ryzen 3 4300U\n",
    "- Grafica:\tRadeon Graphics 2.70 GHz\n",
    "- RAM instalada:\t4,00 GB (3,36 GB utilizable)\n",
    "- Windows:\tWindows 10 Home Single Language\n",
    "- Version: 21H2\n",
    "- # Versiones de programas y paquetes\n",
    "- Python 3.10 (64 bit)\n",
    "- Anaconda Navigator 2.2.0\n",
    "- Jupyter Notebook 6.4.8\n",
    "- Biopython 1.79\n",
    "- csv 1.0\n",
    "- re 2.2.1\n",
    "- pandas 1.4.2\n",
    "- numpy 1.21.5\n",
    "- matplotlib 3.5.1\n",
    "- seaborn 0.11.2\n",
    "# Versiones de programas y paquetes\n",
    "- **La data utilizada fue descagada con la funcion download_pubmed en el caso de los primeros literales. La funcion\n",
    "descargaba desde la base de datos de pubmed informacion sobre articulos que contengan la palabra clave ingresada.\n",
    "En la informacion se encontraba desde el registro, autores, ciudad, paises, etc.**\n",
    "- **La segunda data utilizada se descargo desde la base de batos del NCBI. La Accession List se descargo directamente\n",
    " desde la pagina web y porterior se descago las secuencias individuales des el python para alinearse y ser graficadas**\n",
    " # Un diagrama de procesos del módulo miningscience\n",
    "![rcomplement](img/mining_pubs.png)"
   ]
  }
 ],
 "metadata": {
  "kernelspec": {
   "display_name": "Python 3 (ipykernel)",
   "language": "python",
   "name": "python3"
  },
  "language_info": {
   "codemirror_mode": {
    "name": "ipython",
    "version": 3
   },
   "file_extension": ".py",
   "mimetype": "text/x-python",
   "name": "python",
   "nbconvert_exporter": "python",
   "pygments_lexer": "ipython3",
   "version": "3.9.12"
  }
 },
 "nbformat": 4,
 "nbformat_minor": 5
}
